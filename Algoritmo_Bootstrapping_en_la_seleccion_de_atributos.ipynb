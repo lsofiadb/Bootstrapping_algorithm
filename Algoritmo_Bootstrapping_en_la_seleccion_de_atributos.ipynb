{
  "nbformat": 4,
  "nbformat_minor": 0,
  "metadata": {
    "colab": {
      "provenance": [],
      "toc_visible": true,
      "include_colab_link": true
    },
    "kernelspec": {
      "name": "python3",
      "display_name": "Python 3"
    },
    "language_info": {
      "name": "python"
    }
  },
  "cells": [
    {
      "cell_type": "markdown",
      "metadata": {
        "id": "view-in-github",
        "colab_type": "text"
      },
      "source": [
        "<a href=\"https://colab.research.google.com/github/lsofiadb/Bootstrapping_algorithm/blob/main/Algoritmo_Bootstrapping_en_la_seleccion_de_atributos.ipynb\" target=\"_parent\"><img src=\"https://colab.research.google.com/assets/colab-badge.svg\" alt=\"Open In Colab\"/></a>"
      ]
    },
    {
      "cell_type": "markdown",
      "source": [
        "Paso 1: Generación de subconjuntos de atributos"
      ],
      "metadata": {
        "id": "3uluEt7WMDH_"
      }
    },
    {
      "cell_type": "markdown",
      "source": [
        "# Paso 1: Generación de subconjuntos de atributos"
      ],
      "metadata": {
        "id": "DO5b656GEMPG"
      }
    },
    {
      "cell_type": "code",
      "execution_count": null,
      "metadata": {
        "id": "5DNZZExbL1Na"
      },
      "outputs": [],
      "source": [
        "import pandas as pd\n",
        "import random\n",
        "\n",
        "def generate_random_subsets(file_path, max_attributes_per_subset, num_subsets):\n",
        "    data = pd.read_csv(file_path)\n",
        "    attributes = list(data.columns)\n",
        "    if max_attributes_per_subset > len(attributes):\n",
        "        max_attributes_per_subset = len(attributes)\n",
        "    subsets = []\n",
        "    while len(subsets) < num_subsets:\n",
        "        subset = []\n",
        "        cont = 0\n",
        "        subset.append(attributes[len(attributes)-1])\n",
        "        while cont < max_attributes_per_subset-1:\n",
        "            cont+=1\n",
        "            attribute = random.choice(attributes)\n",
        "            if attribute not in subset:\n",
        "                subset.append(attribute)\n",
        "        if subset not in subsets:\n",
        "            subsets.append(subset)\n",
        "    dataSubFrames=[]\n",
        "    for sub in subsets:\n",
        "      dataSubFrames.append(data[sub])\n",
        "\n",
        "    return dataSubFrames"
      ]
    },
    {
      "cell_type": "markdown",
      "source": [
        "# **Paso 2** **Evaluación de subconjuntos**"
      ],
      "metadata": {
        "id": "F_sPndZUMij9"
      }
    },
    {
      "cell_type": "code",
      "source": [
        "#Cambiar para recibir dataframes\n",
        "\n",
        "import pandas as pd\n",
        "\n",
        "def sort_attributes_by_correlation_subset(data):\n",
        "\n",
        "    # Calcular la matriz de correlación de los datos\n",
        "    correlation_matrix = data.corr()\n",
        "\n",
        "    # Obtener las parejas de atributos y sus índices de correlación\n",
        "    attribute_pairs = []\n",
        "    for i in range(len(correlation_matrix.columns)):\n",
        "        for j in range(i):\n",
        "            attribute_pairs.append((correlation_matrix.columns[i], correlation_matrix.columns[j], abs(correlation_matrix.iloc[i, j])))\n",
        "\n",
        "    # Ordenar las parejas de atributos por su índice de correlación de mayor a menor\n",
        "    attribute_pairs_sorted = sorted(attribute_pairs, key=lambda x: abs(x[2]), reverse=True)\n",
        "\n",
        "    # Eliminar las parejas de atributos duplicadas\n",
        "    attribute_pairs_unique = []\n",
        "    for pair in attribute_pairs_sorted:\n",
        "        if (pair[0], pair[1]) not in attribute_pairs_unique and (pair[1], pair[0]) not in attribute_pairs_unique and pair[0] != pair[1]:\n",
        "            attribute_pairs_unique.append((pair[0], pair[1], pair[2]))\n",
        "\n",
        "    # Crear un dataframe con las parejas de atributos y sus índices de correlación\n",
        "    df = pd.DataFrame(attribute_pairs_unique, columns=[\"Atributo 1\", \"Atributo 2\", \"Índice de correlación\"])\n",
        "\n",
        "    #Sumar indice de correlación\n",
        "    sumaCorr = df[\"Índice de correlación\"].sum()\n",
        "\n",
        "    #Dataframe ordenado por su índice de correlación\n",
        "    df.sort_values(by=\"Índice de correlación\", ascending=False).reset_index(drop=True)\n",
        "\n",
        "    #Retornar suma\n",
        "    return sumaCorr\n",
        "\n"
      ],
      "metadata": {
        "id": "X6bqUB6mHv6w"
      },
      "execution_count": null,
      "outputs": []
    },
    {
      "cell_type": "code",
      "source": [
        "#Correlación inicial dataset original\n",
        "import pandas as pd\n",
        "\n",
        "def sort_attributes_by_correlation(data):\n",
        "\n",
        "    # Calcular la matriz de correlación de los datos\n",
        "    correlation_matrix = data.corr()\n",
        "\n",
        "    # Obtener las parejas de atributos y sus índices de correlación\n",
        "    attribute_pairs = []\n",
        "    for i in range(len(correlation_matrix.columns)):\n",
        "        for j in range(i):\n",
        "            attribute_pairs.append((correlation_matrix.columns[i], correlation_matrix.columns[j], abs(correlation_matrix.iloc[i, j])))\n",
        "\n",
        "    # Ordenar las parejas de atributos por su índice de correlación de mayor a menor\n",
        "    attribute_pairs_sorted = sorted(attribute_pairs, key=lambda x: abs(x[2]), reverse=True)\n",
        "\n",
        "    # Eliminar las parejas de atributos duplicadas\n",
        "    attribute_pairs_unique = []\n",
        "    for pair in attribute_pairs_sorted:\n",
        "        if (pair[0], pair[1]) not in attribute_pairs_unique and (pair[1], pair[0]) not in attribute_pairs_unique and pair[0] != pair[1]:\n",
        "            attribute_pairs_unique.append((pair[0], pair[1], pair[2]))\n",
        "\n",
        "    # Crear un dataframe con las parejas de atributos y sus índices de correlación\n",
        "    df = pd.DataFrame(attribute_pairs_unique, columns=[\"Atributo 1\", \"Atributo 2\", \"Índice de correlación\"])\n",
        "\n",
        "    sumaCorr = df[\"Índice de correlación\"].sum()\n",
        "\n",
        "    df.sort_values(by=\"Índice de correlación\", ascending=False).reset_index(drop=True)\n",
        "\n",
        "    # Devolver el dataframe ordenado por su índice de correlación\n",
        "    return sumaCorr\n"
      ],
      "metadata": {
        "id": "E_vtBj0C8bFn"
      },
      "execution_count": null,
      "outputs": []
    },
    {
      "cell_type": "markdown",
      "source": [
        "# Calcular bondades"
      ],
      "metadata": {
        "id": "F_ObldiPM7I8"
      }
    },
    {
      "cell_type": "code",
      "source": [
        "def calculoBondades(originalCorr, listCorrSub):\n",
        "  listBondades = []\n",
        "  for i in listCorrSub:\n",
        "    listBondades.append((i*100)/originalCorr)\n",
        "  return listBondades"
      ],
      "metadata": {
        "id": "L2gsnNQ0NBRL"
      },
      "execution_count": null,
      "outputs": []
    },
    {
      "cell_type": "markdown",
      "source": [
        "# **Paso 3: Calculo de pesos**"
      ],
      "metadata": {
        "id": "ynA-jIX3TQHI"
      }
    },
    {
      "cell_type": "markdown",
      "source": [
        "# **PROGRAMA** **PRINCIPAL**"
      ],
      "metadata": {
        "id": "K9oIuKg0IZrA"
      }
    },
    {
      "cell_type": "code",
      "source": [
        "#Creación del data Frame\n",
        "dataGlobal = pd.read_csv(\"sample_data/carro.csv\")\n",
        "\n",
        "#Paso 1\n",
        "subDataFrames=generate_random_subsets(\"sample_data/carro.csv\", 5, 10)\n",
        "\n",
        "#Paso 2\n",
        "#Calcular suma de relación dataset original\n",
        "sumCorr=sort_attributes_by_correlation(dataGlobal)\n",
        "\n",
        "print(sumCorr)\n",
        "#lista de suma de indices de correlación por subconjunto\n",
        "\n",
        "listIndexCorr = []\n",
        "attributesxsubset =[]\n",
        "\n",
        "for i in subDataFrames:\n",
        "  #print(sort_attributes_by_correlation_subset(i))\n",
        "  listIndexCorr.append(sort_attributes_by_correlation_subset(i))\n",
        "  attributesxsubset.append(list(i.columns))\n",
        "\n",
        "print(listIndexCorr)\n",
        "\n",
        "#Lista de bondades de cada subconjunto\n",
        "listBondades= calculoBondades(sumCorr,listIndexCorr )\n",
        "\n",
        "#creación de lista de tuplas de Subconjunto y bondad\n",
        "listBondadesXsubsets = []\n",
        "for i in range(len(attributesxsubset)):\n",
        "  listBondadesXsubsets.append((attributesxsubset[i],\"Bondad\",listBondades[i]))\n",
        "\n",
        "#Imprimir tupla de subconjunto con bondad\n",
        "#for it in listBondadesXsubsets:\n",
        "  #print(it)\n",
        "  #print(\"\\n\")\n",
        "\n",
        "#atributos del dataset original\n",
        "attributes = list(dataGlobal.columns)\n",
        "\n",
        "#print(listBondadesXsubsets[3][0])\n",
        "\n",
        "#for item in listBondadesXsubsets:\n",
        "  #for attribute in range(len(listBondadesXsubsets[item][0])):\n",
        "   # print(attribute)\n",
        "\n",
        "#Se calculan los pesos contando las veces que aparece cada atrubuto\n",
        "#en cada subconjunto\n",
        "listResult = []\n",
        "listAtPe = []\n",
        "#Inicio For\n",
        "for att in attributes:\n",
        "  #print(att)\n",
        "  listAtPe.append(att)\n",
        "  peso = 0\n",
        "  contAttr=0\n",
        "  for i in range(len(listBondadesXsubsets)):\n",
        "        if att in listBondadesXsubsets[i][0]:\n",
        "          peso+=listBondadesXsubsets[i][2]\n",
        "          contAttr+=1\n",
        "          #print(peso)\n",
        "  listAtPe.append(peso/contAttr)\n",
        "  pesoFinal=peso/contAttr\n",
        "  listResult.append([att,pesoFinal])\n",
        "#Fin For\n",
        "\n",
        "print(listResult)\n",
        "\n",
        "# Crear un dataframe con las parejas de atributos y sus índices de correlación\n",
        "pesosAttDataFrame = pd.DataFrame(listResult, columns=[\"Atributo\", \"Peso\"])\n",
        "\n",
        "pesosAttDataFrame=pesosAttDataFrame.sort_values(by=\"Peso\", ascending=False).reset_index(drop=True)\n",
        "\n",
        "print(pesosAttDataFrame)\n"
      ],
      "metadata": {
        "colab": {
          "base_uri": "https://localhost:8080/"
        },
        "id": "cKxSwImMHVTO",
        "outputId": "c9c20980-d108-40f0-ae4b-a3f7ce60235f"
      },
      "execution_count": null,
      "outputs": [
        {
          "output_type": "stream",
          "name": "stdout",
          "text": [
            "4.481538352761005\n",
            "[1.6110689838504317, 1.7209696684696838, 1.7205100629323207, 0.8836087339379545, 1.0090302258596835, 0.3982607177428026, 0.9811611242879897, 0.9811611242879897, 0.5007745476923584, 1.3295923802777945]\n",
            "[['edad', 21.15729509605511], ['salario', 29.840576152251753], ['distancia', 26.979819128252196], ['buses', 26.26319816003014], ['transbordos', 37.17516609299237], ['Field Name', 24.848917252885297]]\n",
            "      Atributo       Peso\n",
            "0  transbordos  37.175166\n",
            "1      salario  29.840576\n",
            "2    distancia  26.979819\n",
            "3        buses  26.263198\n",
            "4   Field Name  24.848917\n",
            "5         edad  21.157295\n"
          ]
        }
      ]
    },
    {
      "cell_type": "code",
      "source": [
        "print(pesosAttDataFrame)"
      ],
      "metadata": {
        "colab": {
          "base_uri": "https://localhost:8080/"
        },
        "id": "9uuQMi6YeKOo",
        "outputId": "f4b609d2-c784-45b0-a954-32e34012dc20"
      },
      "execution_count": null,
      "outputs": [
        {
          "output_type": "stream",
          "name": "stdout",
          "text": [
            "      Atributo       Peso\n",
            "0  transbordos  37.175166\n",
            "1      salario  29.840576\n",
            "2    distancia  26.979819\n",
            "3        buses  26.263198\n",
            "4   Field Name  24.848917\n",
            "5         edad  21.157295\n"
          ]
        }
      ]
    },
    {
      "cell_type": "markdown",
      "source": [
        "# Codigos de pruebas"
      ],
      "metadata": {
        "id": "B6mVg1KA-45F"
      }
    },
    {
      "cell_type": "code",
      "source": [
        "import pandas as pd\n",
        "\n",
        "def calculate_correlation_matrix(file_path):\n",
        "    # Cargar los datos desde un archivo CSV\n",
        "    data = pd.read_csv(file_path)\n",
        "\n",
        "    # Calcular la matriz de correlación de los datos\n",
        "    correlation_matrix = data.corr()\n",
        "\n",
        "\n",
        "    # Devolver la matriz de correlación\n",
        "    return correlation_matrix"
      ],
      "metadata": {
        "id": "-YlEfKGHWzLp"
      },
      "execution_count": null,
      "outputs": []
    }
  ]
}